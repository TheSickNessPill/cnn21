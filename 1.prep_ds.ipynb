{
 "cells": [
  {
   "cell_type": "code",
   "execution_count": 66,
   "metadata": {
    "collapsed": true
   },
   "outputs": [],
   "source": [
    "import pandas as pd\n",
    "from tensorflow.keras import layers\n",
    "from tensorflow.keras.models import Sequential\n",
    "\n",
    "df = pd.read_parquet('astra21.parquet.snappy')"
   ]
  },
  {
   "cell_type": "code",
   "execution_count": 67,
   "outputs": [
    {
     "name": "stdout",
     "output_type": "stream",
     "text": [
      "<class 'pandas.core.frame.DataFrame'>\n",
      "Int64Index: 23922 entries, 0 to 24678\n",
      "Data columns (total 3 columns):\n",
      " #   Column        Non-Null Count  Dtype \n",
      "---  ------        --------------  ----- \n",
      " 0   label         23922 non-null  int8  \n",
      " 1   npoints       23922 non-null  uint8 \n",
      " 2   grayscale255  23922 non-null  object\n",
      "dtypes: int8(1), object(1), uint8(1)\n",
      "memory usage: 420.5+ KB\n"
     ]
    }
   ],
   "source": [
    "df.drop(df[df['npoints'].isna()].index, inplace=True)\n",
    "df['npoints'] = df['npoints'].astype('uint8')\n",
    "df.drop(df[df['label']=='U'].index, inplace=True)\n",
    "df['label'] = pd.Categorical(df['label'])\n",
    "df['label'] = df.label.cat.codes\n",
    "df.info(verbose=True)\n",
    "\n",
    "# Y => 2, N => 0, U => 1"
   ],
   "metadata": {
    "collapsed": false,
    "pycharm": {
     "name": "#%%\n"
    }
   }
  },
  {
   "cell_type": "code",
   "execution_count": 68,
   "outputs": [],
   "source": [
    "df.to_parquet('astra21.im.parquet.snappy', compression='snappy')\n",
    "\n",
    "df = pd.read_parquet('astra21.im.parquet.snappy')"
   ],
   "metadata": {
    "collapsed": false,
    "pycharm": {
     "name": "#%%\n"
    }
   }
  },
  {
   "cell_type": "code",
   "execution_count": 69,
   "outputs": [
    {
     "name": "stdout",
     "output_type": "stream",
     "text": [
      "<class 'pandas.core.frame.DataFrame'>\n",
      "Int64Index: 23922 entries, 0 to 24678\n",
      "Data columns (total 3 columns):\n",
      " #   Column        Non-Null Count  Dtype \n",
      "---  ------        --------------  ----- \n",
      " 0   label         23922 non-null  int8  \n",
      " 1   npoints       23922 non-null  uint8 \n",
      " 2   grayscale255  23922 non-null  object\n",
      "dtypes: int8(1), object(1), uint8(1)\n",
      "memory usage: 420.5+ KB\n"
     ]
    }
   ],
   "source": [
    "df.info(verbose=True)"
   ],
   "metadata": {
    "collapsed": false,
    "pycharm": {
     "name": "#%%\n"
    }
   }
  },
  {
   "cell_type": "code",
   "execution_count": 70,
   "outputs": [
    {
     "data": {
      "text/plain": "0    19935\n1     3987\nName: label, dtype: int64"
     },
     "execution_count": 70,
     "metadata": {},
     "output_type": "execute_result"
    }
   ],
   "source": [
    "df['label'].value_counts()"
   ],
   "metadata": {
    "collapsed": false,
    "pycharm": {
     "name": "#%%\n"
    }
   }
  },
  {
   "cell_type": "code",
   "execution_count": 82,
   "outputs": [
    {
     "data": {
      "text/plain": "       label  npoints                                       grayscale255\n0          1       36  [74.0, 40.0, 71.0, 91.0, 78.0, 53.0, 80.0, 63....\n1          0      131  [110.0, 72.0, 92.0, 75.0, 111.0, 130.0, 130.0,...\n3          0      101  [125.0, 83.0, 162.0, 152.0, 129.0, 139.0, 156....\n4          0       33  [145.0, 114.0, 151.0, 96.0, 91.0, 102.0, 125.0...\n5          0      143  [142.0, 102.0, 154.0, 117.0, 138.0, 122.0, 186...\n...      ...      ...                                                ...\n24674      0       46  [149.0, 138.0, 114.0, 167.0, 146.0, 116.0, 118...\n24675      0       26  [119.0, 129.0, 124.0, 167.0, 76.0, 82.0, 150.0...\n24676      0       59  [102.0, 135.0, 106.0, 156.0, 162.0, 123.0, 150...\n24677      0       50  [125.0, 105.0, 185.0, 150.0, 156.0, 118.0, 74....\n24678      0       31  [125.0, 109.0, 151.0, 138.0, 127.0, 205.0, 157...\n\n[23922 rows x 3 columns]",
      "text/html": "<div>\n<style scoped>\n    .dataframe tbody tr th:only-of-type {\n        vertical-align: middle;\n    }\n\n    .dataframe tbody tr th {\n        vertical-align: top;\n    }\n\n    .dataframe thead th {\n        text-align: right;\n    }\n</style>\n<table border=\"1\" class=\"dataframe\">\n  <thead>\n    <tr style=\"text-align: right;\">\n      <th></th>\n      <th>label</th>\n      <th>npoints</th>\n      <th>grayscale255</th>\n    </tr>\n  </thead>\n  <tbody>\n    <tr>\n      <th>0</th>\n      <td>1</td>\n      <td>36</td>\n      <td>[74.0, 40.0, 71.0, 91.0, 78.0, 53.0, 80.0, 63....</td>\n    </tr>\n    <tr>\n      <th>1</th>\n      <td>0</td>\n      <td>131</td>\n      <td>[110.0, 72.0, 92.0, 75.0, 111.0, 130.0, 130.0,...</td>\n    </tr>\n    <tr>\n      <th>3</th>\n      <td>0</td>\n      <td>101</td>\n      <td>[125.0, 83.0, 162.0, 152.0, 129.0, 139.0, 156....</td>\n    </tr>\n    <tr>\n      <th>4</th>\n      <td>0</td>\n      <td>33</td>\n      <td>[145.0, 114.0, 151.0, 96.0, 91.0, 102.0, 125.0...</td>\n    </tr>\n    <tr>\n      <th>5</th>\n      <td>0</td>\n      <td>143</td>\n      <td>[142.0, 102.0, 154.0, 117.0, 138.0, 122.0, 186...</td>\n    </tr>\n    <tr>\n      <th>...</th>\n      <td>...</td>\n      <td>...</td>\n      <td>...</td>\n    </tr>\n    <tr>\n      <th>24674</th>\n      <td>0</td>\n      <td>46</td>\n      <td>[149.0, 138.0, 114.0, 167.0, 146.0, 116.0, 118...</td>\n    </tr>\n    <tr>\n      <th>24675</th>\n      <td>0</td>\n      <td>26</td>\n      <td>[119.0, 129.0, 124.0, 167.0, 76.0, 82.0, 150.0...</td>\n    </tr>\n    <tr>\n      <th>24676</th>\n      <td>0</td>\n      <td>59</td>\n      <td>[102.0, 135.0, 106.0, 156.0, 162.0, 123.0, 150...</td>\n    </tr>\n    <tr>\n      <th>24677</th>\n      <td>0</td>\n      <td>50</td>\n      <td>[125.0, 105.0, 185.0, 150.0, 156.0, 118.0, 74....</td>\n    </tr>\n    <tr>\n      <th>24678</th>\n      <td>0</td>\n      <td>31</td>\n      <td>[125.0, 109.0, 151.0, 138.0, 127.0, 205.0, 157...</td>\n    </tr>\n  </tbody>\n</table>\n<p>23922 rows × 3 columns</p>\n</div>"
     },
     "execution_count": 82,
     "metadata": {},
     "output_type": "execute_result"
    }
   ],
   "source": [
    "df"
   ],
   "metadata": {
    "collapsed": false,
    "pycharm": {
     "name": "#%%\n"
    }
   }
  },
  {
   "cell_type": "code",
   "execution_count": 86,
   "outputs": [
    {
     "data": {
      "text/plain": "<matplotlib.image.AxesImage at 0x20594160e50>"
     },
     "execution_count": 86,
     "metadata": {},
     "output_type": "execute_result"
    },
    {
     "data": {
      "text/plain": "<Figure size 288x314.182 with 1 Axes>",
      "image/png": "[encoded data removed]"
     },
     "metadata": {
      "needs_background": "light"
     },
     "output_type": "display_data"
    },
    {
     "data": {
      "text/plain": "<Figure size 288x1143.27 with 1 Axes>",
      "image/png": "[encoded data removed]"
     },
     "metadata": {
      "needs_background": "light"
     },
     "output_type": "display_data"
    }
   ],
   "source": [
    "import matplotlib.pyplot as plt\n",
    "\n",
    "plt.matshow(df['grayscale255'][0].reshape(-1, 33))\n",
    "plt.matshow(df['grayscale255'][1].reshape(-1, 33))"
   ],
   "metadata": {
    "collapsed": false,
    "pycharm": {
     "name": "#%%\n"
    }
   }
  },
  {
   "cell_type": "code",
   "execution_count": 89,
   "outputs": [
    {
     "data": {
      "text/plain": "255.0"
     },
     "execution_count": 89,
     "metadata": {},
     "output_type": "execute_result"
    }
   ],
   "source": [
    "df['grayscale255'][0].max()"
   ],
   "metadata": {
    "collapsed": false,
    "pycharm": {
     "name": "#%%\n"
    }
   }
  },
  {
   "cell_type": "code",
   "execution_count": 90,
   "outputs": [
    {
     "data": {
      "text/plain": "0.0"
     },
     "execution_count": 90,
     "metadata": {},
     "output_type": "execute_result"
    }
   ],
   "source": [
    "df['grayscale255'][0].min()"
   ],
   "metadata": {
    "collapsed": false,
    "pycharm": {
     "name": "#%%\n"
    }
   }
  },
  {
   "cell_type": "code",
   "execution_count": 91,
   "outputs": [
    {
     "data": {
      "text/plain": "255.0"
     },
     "execution_count": 91,
     "metadata": {},
     "output_type": "execute_result"
    }
   ],
   "source": [
    "df['grayscale255'][1].max()"
   ],
   "metadata": {
    "collapsed": false,
    "pycharm": {
     "name": "#%%\n"
    }
   }
  },
  {
   "cell_type": "code",
   "execution_count": 92,
   "outputs": [
    {
     "data": {
      "text/plain": "0.0"
     },
     "execution_count": 92,
     "metadata": {},
     "output_type": "execute_result"
    }
   ],
   "source": [
    "df['grayscale255'][1].min()"
   ],
   "metadata": {
    "collapsed": false,
    "pycharm": {
     "name": "#%%\n"
    }
   }
  },
  {
   "cell_type": "code",
   "execution_count": 93,
   "outputs": [
    {
     "data": {
      "text/plain": "24"
     },
     "execution_count": 93,
     "metadata": {},
     "output_type": "execute_result"
    }
   ],
   "source": [
    "df['npoints'].min()"
   ],
   "metadata": {
    "collapsed": false,
    "pycharm": {
     "name": "#%%\n"
    }
   }
  },
  {
   "cell_type": "code",
   "execution_count": null,
   "outputs": [],
   "source": [
    "num_classes = 5\n",
    "\n",
    "model = Sequential([\n",
    "  layers.experimental.preprocessing.Rescaling(1./255, input_shape=(img_height, img_width, 3)),\n",
    "  layers.Conv2D(16, 3, padding='same', activation='relu'),\n",
    "  layers.MaxPooling2D(),\n",
    "  layers.Conv2D(32, 3, padding='same', activation='relu'),\n",
    "  layers.MaxPooling2D(),\n",
    "  layers.Conv2D(64, 3, padding='same', activation='relu'),\n",
    "  layers.MaxPooling2D(),\n",
    "  layers.Flatten(),\n",
    "  layers.Dense(128, activation='relu'),\n",
    "  layers.Dense(num_classes)\n",
    "])"
   ],
   "metadata": {
    "collapsed": false,
    "pycharm": {
     "name": "#%%\n"
    }
   }
  }
 ],
 "metadata": {
  "kernelspec": {
   "display_name": "Python 3",
   "language": "python",
   "name": "python3"
  },
  "language_info": {
   "codemirror_mode": {
    "name": "ipython",
    "version": 2
   },
   "file_extension": ".py",
   "mimetype": "text/x-python",
   "name": "python",
   "nbconvert_exporter": "python",
   "pygments_lexer": "ipython2",
   "version": "2.7.6"
  }
 },
 "nbformat": 4,
 "nbformat_minor": 0
}